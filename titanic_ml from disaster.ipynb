{
 "cells": [
  {
   "cell_type": "markdown",
   "metadata": {},
   "source": [
    "# Titanic: Machine Learning from Disaster"
   ]
  },
  {
   "cell_type": "code",
   "execution_count": 2,
   "metadata": {},
   "outputs": [],
   "source": [
    "import math\n",
    "import numpy as np\n",
    "import pandas as pd\n",
    "from datetime import datetime\n",
    "\n",
    "import seaborn as sns\n",
    "import matplotlib.pyplot as plt\n",
    "%matplotlib inline \n",
    "plt.style.use('seaborn-whitegrid')\n",
    "\n",
    "from sklearn.model_selection import train_test_split\n",
    "from sklearn.linear_model import LogisticRegression\n",
    "from sklearn import metrics\n",
    "from sklearn.metrics import classification_report\n",
    "from sklearn.metrics import confusion_matrix\n",
    "import statsmodels.api as sm"
   ]
  },
  {
   "cell_type": "markdown",
   "metadata": {},
   "source": [
    "# Get the Data"
   ]
  },
  {
   "cell_type": "code",
   "execution_count": 3,
   "metadata": {},
   "outputs": [
    {
     "name": "stdout",
     "output_type": "stream",
     "text": [
      "<class 'pandas.core.frame.DataFrame'>\n",
      "RangeIndex: 891 entries, 0 to 890\n",
      "Data columns (total 13 columns):\n",
      "PassengerId    891 non-null int64\n",
      "Survived       891 non-null int64\n",
      "Pclass         891 non-null int64\n",
      "Name           891 non-null object\n",
      "Sex            891 non-null object\n",
      "Age            714 non-null float64\n",
      "SibSp          891 non-null int64\n",
      "Parch          891 non-null int64\n",
      "Ticket         891 non-null object\n",
      "Fare           891 non-null float64\n",
      "Cabin          204 non-null object\n",
      "Embarked       889 non-null object\n",
      "label          891 non-null object\n",
      "dtypes: float64(2), int64(5), object(6)\n",
      "memory usage: 90.6+ KB\n"
     ]
    },
    {
     "data": {
      "text/html": [
       "<div>\n",
       "<style>\n",
       "    .dataframe thead tr:only-child th {\n",
       "        text-align: right;\n",
       "    }\n",
       "\n",
       "    .dataframe thead th {\n",
       "        text-align: left;\n",
       "    }\n",
       "\n",
       "    .dataframe tbody tr th {\n",
       "        vertical-align: top;\n",
       "    }\n",
       "</style>\n",
       "<table border=\"1\" class=\"dataframe\">\n",
       "  <thead>\n",
       "    <tr style=\"text-align: right;\">\n",
       "      <th></th>\n",
       "      <th>PassengerId</th>\n",
       "      <th>Survived</th>\n",
       "      <th>Pclass</th>\n",
       "      <th>Name</th>\n",
       "      <th>Sex</th>\n",
       "      <th>Age</th>\n",
       "      <th>SibSp</th>\n",
       "      <th>Parch</th>\n",
       "      <th>Ticket</th>\n",
       "      <th>Fare</th>\n",
       "      <th>Cabin</th>\n",
       "      <th>Embarked</th>\n",
       "      <th>label</th>\n",
       "    </tr>\n",
       "  </thead>\n",
       "  <tbody>\n",
       "    <tr>\n",
       "      <th>0</th>\n",
       "      <td>1</td>\n",
       "      <td>0</td>\n",
       "      <td>3</td>\n",
       "      <td>Braund, Mr. Owen Harris</td>\n",
       "      <td>male</td>\n",
       "      <td>22.0</td>\n",
       "      <td>1</td>\n",
       "      <td>0</td>\n",
       "      <td>A/5 21171</td>\n",
       "      <td>7.2500</td>\n",
       "      <td>NaN</td>\n",
       "      <td>S</td>\n",
       "      <td>train</td>\n",
       "    </tr>\n",
       "    <tr>\n",
       "      <th>1</th>\n",
       "      <td>2</td>\n",
       "      <td>1</td>\n",
       "      <td>1</td>\n",
       "      <td>Cumings, Mrs. John Bradley (Florence Briggs Th...</td>\n",
       "      <td>female</td>\n",
       "      <td>38.0</td>\n",
       "      <td>1</td>\n",
       "      <td>0</td>\n",
       "      <td>PC 17599</td>\n",
       "      <td>71.2833</td>\n",
       "      <td>C85</td>\n",
       "      <td>C</td>\n",
       "      <td>train</td>\n",
       "    </tr>\n",
       "    <tr>\n",
       "      <th>2</th>\n",
       "      <td>3</td>\n",
       "      <td>1</td>\n",
       "      <td>3</td>\n",
       "      <td>Heikkinen, Miss. Laina</td>\n",
       "      <td>female</td>\n",
       "      <td>26.0</td>\n",
       "      <td>0</td>\n",
       "      <td>0</td>\n",
       "      <td>STON/O2. 3101282</td>\n",
       "      <td>7.9250</td>\n",
       "      <td>NaN</td>\n",
       "      <td>S</td>\n",
       "      <td>train</td>\n",
       "    </tr>\n",
       "    <tr>\n",
       "      <th>3</th>\n",
       "      <td>4</td>\n",
       "      <td>1</td>\n",
       "      <td>1</td>\n",
       "      <td>Futrelle, Mrs. Jacques Heath (Lily May Peel)</td>\n",
       "      <td>female</td>\n",
       "      <td>35.0</td>\n",
       "      <td>1</td>\n",
       "      <td>0</td>\n",
       "      <td>113803</td>\n",
       "      <td>53.1000</td>\n",
       "      <td>C123</td>\n",
       "      <td>S</td>\n",
       "      <td>train</td>\n",
       "    </tr>\n",
       "    <tr>\n",
       "      <th>4</th>\n",
       "      <td>5</td>\n",
       "      <td>0</td>\n",
       "      <td>3</td>\n",
       "      <td>Allen, Mr. William Henry</td>\n",
       "      <td>male</td>\n",
       "      <td>35.0</td>\n",
       "      <td>0</td>\n",
       "      <td>0</td>\n",
       "      <td>373450</td>\n",
       "      <td>8.0500</td>\n",
       "      <td>NaN</td>\n",
       "      <td>S</td>\n",
       "      <td>train</td>\n",
       "    </tr>\n",
       "  </tbody>\n",
       "</table>\n",
       "</div>"
      ],
      "text/plain": [
       "   PassengerId  Survived  Pclass  \\\n",
       "0            1         0       3   \n",
       "1            2         1       1   \n",
       "2            3         1       3   \n",
       "3            4         1       1   \n",
       "4            5         0       3   \n",
       "\n",
       "                                                Name     Sex   Age  SibSp  \\\n",
       "0                            Braund, Mr. Owen Harris    male  22.0      1   \n",
       "1  Cumings, Mrs. John Bradley (Florence Briggs Th...  female  38.0      1   \n",
       "2                             Heikkinen, Miss. Laina  female  26.0      0   \n",
       "3       Futrelle, Mrs. Jacques Heath (Lily May Peel)  female  35.0      1   \n",
       "4                           Allen, Mr. William Henry    male  35.0      0   \n",
       "\n",
       "   Parch            Ticket     Fare Cabin Embarked  label  \n",
       "0      0         A/5 21171   7.2500   NaN        S  train  \n",
       "1      0          PC 17599  71.2833   C85        C  train  \n",
       "2      0  STON/O2. 3101282   7.9250   NaN        S  train  \n",
       "3      0            113803  53.1000  C123        S  train  \n",
       "4      0            373450   8.0500   NaN        S  train  "
      ]
     },
     "execution_count": 3,
     "metadata": {},
     "output_type": "execute_result"
    }
   ],
   "source": [
    "#train data \n",
    "train = pd.read_csv('titanic_train.csv')\n",
    "train['label']=\"train\"\n",
    "train.info()\n",
    "train.head()"
   ]
  },
  {
   "cell_type": "code",
   "execution_count": 4,
   "metadata": {},
   "outputs": [
    {
     "name": "stdout",
     "output_type": "stream",
     "text": [
      "<class 'pandas.core.frame.DataFrame'>\n",
      "RangeIndex: 418 entries, 0 to 417\n",
      "Data columns (total 12 columns):\n",
      "PassengerId    418 non-null int64\n",
      "Pclass         418 non-null int64\n",
      "Name           418 non-null object\n",
      "Sex            418 non-null object\n",
      "Age            332 non-null float64\n",
      "SibSp          418 non-null int64\n",
      "Parch          418 non-null int64\n",
      "Ticket         418 non-null object\n",
      "Fare           417 non-null float64\n",
      "Cabin          91 non-null object\n",
      "Embarked       418 non-null object\n",
      "label          418 non-null object\n",
      "dtypes: float64(2), int64(4), object(6)\n",
      "memory usage: 39.3+ KB\n"
     ]
    },
    {
     "data": {
      "text/html": [
       "<div>\n",
       "<style>\n",
       "    .dataframe thead tr:only-child th {\n",
       "        text-align: right;\n",
       "    }\n",
       "\n",
       "    .dataframe thead th {\n",
       "        text-align: left;\n",
       "    }\n",
       "\n",
       "    .dataframe tbody tr th {\n",
       "        vertical-align: top;\n",
       "    }\n",
       "</style>\n",
       "<table border=\"1\" class=\"dataframe\">\n",
       "  <thead>\n",
       "    <tr style=\"text-align: right;\">\n",
       "      <th></th>\n",
       "      <th>PassengerId</th>\n",
       "      <th>Pclass</th>\n",
       "      <th>Name</th>\n",
       "      <th>Sex</th>\n",
       "      <th>Age</th>\n",
       "      <th>SibSp</th>\n",
       "      <th>Parch</th>\n",
       "      <th>Ticket</th>\n",
       "      <th>Fare</th>\n",
       "      <th>Cabin</th>\n",
       "      <th>Embarked</th>\n",
       "      <th>label</th>\n",
       "    </tr>\n",
       "  </thead>\n",
       "  <tbody>\n",
       "    <tr>\n",
       "      <th>0</th>\n",
       "      <td>892</td>\n",
       "      <td>3</td>\n",
       "      <td>Kelly, Mr. James</td>\n",
       "      <td>male</td>\n",
       "      <td>34.5</td>\n",
       "      <td>0</td>\n",
       "      <td>0</td>\n",
       "      <td>330911</td>\n",
       "      <td>7.8292</td>\n",
       "      <td>NaN</td>\n",
       "      <td>Q</td>\n",
       "      <td>test</td>\n",
       "    </tr>\n",
       "    <tr>\n",
       "      <th>1</th>\n",
       "      <td>893</td>\n",
       "      <td>3</td>\n",
       "      <td>Wilkes, Mrs. James (Ellen Needs)</td>\n",
       "      <td>female</td>\n",
       "      <td>47.0</td>\n",
       "      <td>1</td>\n",
       "      <td>0</td>\n",
       "      <td>363272</td>\n",
       "      <td>7.0000</td>\n",
       "      <td>NaN</td>\n",
       "      <td>S</td>\n",
       "      <td>test</td>\n",
       "    </tr>\n",
       "    <tr>\n",
       "      <th>2</th>\n",
       "      <td>894</td>\n",
       "      <td>2</td>\n",
       "      <td>Myles, Mr. Thomas Francis</td>\n",
       "      <td>male</td>\n",
       "      <td>62.0</td>\n",
       "      <td>0</td>\n",
       "      <td>0</td>\n",
       "      <td>240276</td>\n",
       "      <td>9.6875</td>\n",
       "      <td>NaN</td>\n",
       "      <td>Q</td>\n",
       "      <td>test</td>\n",
       "    </tr>\n",
       "    <tr>\n",
       "      <th>3</th>\n",
       "      <td>895</td>\n",
       "      <td>3</td>\n",
       "      <td>Wirz, Mr. Albert</td>\n",
       "      <td>male</td>\n",
       "      <td>27.0</td>\n",
       "      <td>0</td>\n",
       "      <td>0</td>\n",
       "      <td>315154</td>\n",
       "      <td>8.6625</td>\n",
       "      <td>NaN</td>\n",
       "      <td>S</td>\n",
       "      <td>test</td>\n",
       "    </tr>\n",
       "    <tr>\n",
       "      <th>4</th>\n",
       "      <td>896</td>\n",
       "      <td>3</td>\n",
       "      <td>Hirvonen, Mrs. Alexander (Helga E Lindqvist)</td>\n",
       "      <td>female</td>\n",
       "      <td>22.0</td>\n",
       "      <td>1</td>\n",
       "      <td>1</td>\n",
       "      <td>3101298</td>\n",
       "      <td>12.2875</td>\n",
       "      <td>NaN</td>\n",
       "      <td>S</td>\n",
       "      <td>test</td>\n",
       "    </tr>\n",
       "  </tbody>\n",
       "</table>\n",
       "</div>"
      ],
      "text/plain": [
       "   PassengerId  Pclass                                          Name     Sex  \\\n",
       "0          892       3                              Kelly, Mr. James    male   \n",
       "1          893       3              Wilkes, Mrs. James (Ellen Needs)  female   \n",
       "2          894       2                     Myles, Mr. Thomas Francis    male   \n",
       "3          895       3                              Wirz, Mr. Albert    male   \n",
       "4          896       3  Hirvonen, Mrs. Alexander (Helga E Lindqvist)  female   \n",
       "\n",
       "    Age  SibSp  Parch   Ticket     Fare Cabin Embarked label  \n",
       "0  34.5      0      0   330911   7.8292   NaN        Q  test  \n",
       "1  47.0      1      0   363272   7.0000   NaN        S  test  \n",
       "2  62.0      0      0   240276   9.6875   NaN        Q  test  \n",
       "3  27.0      0      0   315154   8.6625   NaN        S  test  \n",
       "4  22.0      1      1  3101298  12.2875   NaN        S  test  "
      ]
     },
     "execution_count": 4,
     "metadata": {},
     "output_type": "execute_result"
    }
   ],
   "source": [
    "#test data \n",
    "test = pd.read_csv('titanic_test.csv')\n",
    "test['label']=\"test\"\n",
    "test.info()\n",
    "test.head()"
   ]
  },
  {
   "cell_type": "code",
   "execution_count": 5,
   "metadata": {},
   "outputs": [
    {
     "name": "stdout",
     "output_type": "stream",
     "text": [
      "<class 'pandas.core.frame.DataFrame'>\n",
      "Int64Index: 1309 entries, 0 to 417\n",
      "Data columns (total 13 columns):\n",
      "Age            1046 non-null float64\n",
      "Cabin          295 non-null object\n",
      "Embarked       1307 non-null object\n",
      "Fare           1308 non-null float64\n",
      "Name           1309 non-null object\n",
      "Parch          1309 non-null int64\n",
      "PassengerId    1309 non-null int64\n",
      "Pclass         1309 non-null int64\n",
      "Sex            1309 non-null object\n",
      "SibSp          1309 non-null int64\n",
      "Survived       891 non-null float64\n",
      "Ticket         1309 non-null object\n",
      "label          1309 non-null object\n",
      "dtypes: float64(3), int64(4), object(6)\n",
      "memory usage: 143.2+ KB\n"
     ]
    },
    {
     "data": {
      "text/html": [
       "<div>\n",
       "<style>\n",
       "    .dataframe thead tr:only-child th {\n",
       "        text-align: right;\n",
       "    }\n",
       "\n",
       "    .dataframe thead th {\n",
       "        text-align: left;\n",
       "    }\n",
       "\n",
       "    .dataframe tbody tr th {\n",
       "        vertical-align: top;\n",
       "    }\n",
       "</style>\n",
       "<table border=\"1\" class=\"dataframe\">\n",
       "  <thead>\n",
       "    <tr style=\"text-align: right;\">\n",
       "      <th></th>\n",
       "      <th>Age</th>\n",
       "      <th>Cabin</th>\n",
       "      <th>Embarked</th>\n",
       "      <th>Fare</th>\n",
       "      <th>Name</th>\n",
       "      <th>Parch</th>\n",
       "      <th>PassengerId</th>\n",
       "      <th>Pclass</th>\n",
       "      <th>Sex</th>\n",
       "      <th>SibSp</th>\n",
       "      <th>Survived</th>\n",
       "      <th>Ticket</th>\n",
       "      <th>label</th>\n",
       "    </tr>\n",
       "  </thead>\n",
       "  <tbody>\n",
       "    <tr>\n",
       "      <th>0</th>\n",
       "      <td>22.0</td>\n",
       "      <td>NaN</td>\n",
       "      <td>S</td>\n",
       "      <td>7.2500</td>\n",
       "      <td>Braund, Mr. Owen Harris</td>\n",
       "      <td>0</td>\n",
       "      <td>1</td>\n",
       "      <td>3</td>\n",
       "      <td>male</td>\n",
       "      <td>1</td>\n",
       "      <td>0.0</td>\n",
       "      <td>A/5 21171</td>\n",
       "      <td>train</td>\n",
       "    </tr>\n",
       "    <tr>\n",
       "      <th>1</th>\n",
       "      <td>38.0</td>\n",
       "      <td>C85</td>\n",
       "      <td>C</td>\n",
       "      <td>71.2833</td>\n",
       "      <td>Cumings, Mrs. John Bradley (Florence Briggs Th...</td>\n",
       "      <td>0</td>\n",
       "      <td>2</td>\n",
       "      <td>1</td>\n",
       "      <td>female</td>\n",
       "      <td>1</td>\n",
       "      <td>1.0</td>\n",
       "      <td>PC 17599</td>\n",
       "      <td>train</td>\n",
       "    </tr>\n",
       "    <tr>\n",
       "      <th>2</th>\n",
       "      <td>26.0</td>\n",
       "      <td>NaN</td>\n",
       "      <td>S</td>\n",
       "      <td>7.9250</td>\n",
       "      <td>Heikkinen, Miss. Laina</td>\n",
       "      <td>0</td>\n",
       "      <td>3</td>\n",
       "      <td>3</td>\n",
       "      <td>female</td>\n",
       "      <td>0</td>\n",
       "      <td>1.0</td>\n",
       "      <td>STON/O2. 3101282</td>\n",
       "      <td>train</td>\n",
       "    </tr>\n",
       "    <tr>\n",
       "      <th>3</th>\n",
       "      <td>35.0</td>\n",
       "      <td>C123</td>\n",
       "      <td>S</td>\n",
       "      <td>53.1000</td>\n",
       "      <td>Futrelle, Mrs. Jacques Heath (Lily May Peel)</td>\n",
       "      <td>0</td>\n",
       "      <td>4</td>\n",
       "      <td>1</td>\n",
       "      <td>female</td>\n",
       "      <td>1</td>\n",
       "      <td>1.0</td>\n",
       "      <td>113803</td>\n",
       "      <td>train</td>\n",
       "    </tr>\n",
       "    <tr>\n",
       "      <th>4</th>\n",
       "      <td>35.0</td>\n",
       "      <td>NaN</td>\n",
       "      <td>S</td>\n",
       "      <td>8.0500</td>\n",
       "      <td>Allen, Mr. William Henry</td>\n",
       "      <td>0</td>\n",
       "      <td>5</td>\n",
       "      <td>3</td>\n",
       "      <td>male</td>\n",
       "      <td>0</td>\n",
       "      <td>0.0</td>\n",
       "      <td>373450</td>\n",
       "      <td>train</td>\n",
       "    </tr>\n",
       "  </tbody>\n",
       "</table>\n",
       "</div>"
      ],
      "text/plain": [
       "    Age Cabin Embarked     Fare  \\\n",
       "0  22.0   NaN        S   7.2500   \n",
       "1  38.0   C85        C  71.2833   \n",
       "2  26.0   NaN        S   7.9250   \n",
       "3  35.0  C123        S  53.1000   \n",
       "4  35.0   NaN        S   8.0500   \n",
       "\n",
       "                                                Name  Parch  PassengerId  \\\n",
       "0                            Braund, Mr. Owen Harris      0            1   \n",
       "1  Cumings, Mrs. John Bradley (Florence Briggs Th...      0            2   \n",
       "2                             Heikkinen, Miss. Laina      0            3   \n",
       "3       Futrelle, Mrs. Jacques Heath (Lily May Peel)      0            4   \n",
       "4                           Allen, Mr. William Henry      0            5   \n",
       "\n",
       "   Pclass     Sex  SibSp  Survived            Ticket  label  \n",
       "0       3    male      1       0.0         A/5 21171  train  \n",
       "1       1  female      1       1.0          PC 17599  train  \n",
       "2       3  female      0       1.0  STON/O2. 3101282  train  \n",
       "3       1  female      1       1.0            113803  train  \n",
       "4       3    male      0       0.0            373450  train  "
      ]
     },
     "execution_count": 5,
     "metadata": {},
     "output_type": "execute_result"
    }
   ],
   "source": [
    "#full dataset\n",
    "df = pd.concat([train,test],axis=0)\n",
    "df.info()\n",
    "df.head()"
   ]
  },
  {
   "cell_type": "markdown",
   "metadata": {},
   "source": [
    "# Missing Value"
   ]
  },
  {
   "cell_type": "code",
   "execution_count": 6,
   "metadata": {},
   "outputs": [
    {
     "name": "stdout",
     "output_type": "stream",
     "text": [
      "<class 'pandas.core.frame.DataFrame'>\n",
      "Int64Index: 1309 entries, 0 to 417\n",
      "Data columns (total 13 columns):\n",
      "Age            1309 non-null float64\n",
      "Cabin          295 non-null object\n",
      "Embarked       1307 non-null object\n",
      "Fare           1308 non-null float64\n",
      "Name           1309 non-null object\n",
      "Parch          1309 non-null int64\n",
      "PassengerId    1309 non-null int64\n",
      "Pclass         1309 non-null int64\n",
      "Sex            1309 non-null object\n",
      "SibSp          1309 non-null int64\n",
      "Survived       891 non-null float64\n",
      "Ticket         1309 non-null object\n",
      "label          1309 non-null object\n",
      "dtypes: float64(3), int64(4), object(6)\n",
      "memory usage: 143.2+ KB\n"
     ]
    }
   ],
   "source": [
    "#Age - function of Pclass and Sex\n",
    "temp = df[pd.isnull(df['Age']) == False]\n",
    "age = temp.pivot_table(values=['Age'], index=['Pclass'], columns=['Sex'], aggfunc='mean')\n",
    "\n",
    "def func_age (cols):\n",
    "    x = cols[0]\n",
    "    y = cols[1]\n",
    "    z = cols[2]\n",
    "    if (pd.isnull(x)==False): return x\n",
    "    elif (y==1 and z=='female'): return 37.0\n",
    "    elif (y==2 and z=='female'): return 27.5\n",
    "    elif (y==3 and z=='female'): return 22.2\n",
    "    elif (y==1 and z=='male'): return 41.0\n",
    "    elif (y==2 and z=='male'): return 30.8\n",
    "    elif (y==3 and z=='male'): return 26.0\n",
    "    else: return x\n",
    "df['Age'] = df[['Age','Pclass','Sex']].apply(func_age,axis=1)\n",
    "df.info()"
   ]
  },
  {
   "cell_type": "code",
   "execution_count": 7,
   "metadata": {},
   "outputs": [
    {
     "name": "stdout",
     "output_type": "stream",
     "text": [
      "<class 'pandas.core.frame.DataFrame'>\n",
      "Int64Index: 1309 entries, 0 to 417\n",
      "Data columns (total 14 columns):\n",
      "Age            1309 non-null float64\n",
      "Cabin          295 non-null object\n",
      "Embarked       1307 non-null object\n",
      "Fare           1308 non-null float64\n",
      "Name           1309 non-null object\n",
      "Parch          1309 non-null int64\n",
      "PassengerId    1309 non-null int64\n",
      "Pclass         1309 non-null int64\n",
      "Sex            1309 non-null object\n",
      "SibSp          1309 non-null int64\n",
      "Survived       891 non-null float64\n",
      "Ticket         1309 non-null object\n",
      "label          1309 non-null object\n",
      "Cabin_Known    1309 non-null int64\n",
      "dtypes: float64(3), int64(5), object(6)\n",
      "memory usage: 153.4+ KB\n"
     ]
    }
   ],
   "source": [
    "#Cabin - flag (Not Known/ Known)\n",
    "def func_cabin (x):\n",
    "    if (pd.isnull(x) == True): return 0\n",
    "    else: return 1\n",
    "df['Cabin_Known'] = df['Cabin'].apply(func_cabin)\n",
    "df.info()"
   ]
  },
  {
   "cell_type": "code",
   "execution_count": 8,
   "metadata": {},
   "outputs": [
    {
     "name": "stdout",
     "output_type": "stream",
     "text": [
      "<class 'pandas.core.frame.DataFrame'>\n",
      "Int64Index: 1309 entries, 0 to 417\n",
      "Data columns (total 14 columns):\n",
      "Age            1309 non-null float64\n",
      "Cabin          295 non-null object\n",
      "Embarked       1309 non-null object\n",
      "Fare           1308 non-null float64\n",
      "Name           1309 non-null object\n",
      "Parch          1309 non-null int64\n",
      "PassengerId    1309 non-null int64\n",
      "Pclass         1309 non-null int64\n",
      "Sex            1309 non-null object\n",
      "SibSp          1309 non-null int64\n",
      "Survived       891 non-null float64\n",
      "Ticket         1309 non-null object\n",
      "label          1309 non-null object\n",
      "Cabin_Known    1309 non-null int64\n",
      "dtypes: float64(3), int64(5), object(6)\n",
      "memory usage: 153.4+ KB\n"
     ]
    }
   ],
   "source": [
    "#Embarked - By max count i.e. \"S\"\n",
    "embarked = df.groupby(['Embarked'], axis=0)['Embarked'].count()\n",
    "\n",
    "def func_embarked (x):\n",
    "    if (pd.isnull(x) == True): return \"S\"\n",
    "    else: return x\n",
    "df['Embarked'] = df['Embarked'].apply(func_embarked)\n",
    "df.info()"
   ]
  },
  {
   "cell_type": "code",
   "execution_count": 9,
   "metadata": {},
   "outputs": [
    {
     "name": "stdout",
     "output_type": "stream",
     "text": [
      "<class 'pandas.core.frame.DataFrame'>\n",
      "Int64Index: 1309 entries, 0 to 417\n",
      "Data columns (total 14 columns):\n",
      "Age            1309 non-null float64\n",
      "Cabin          295 non-null object\n",
      "Embarked       1309 non-null object\n",
      "Fare           1309 non-null float64\n",
      "Name           1309 non-null object\n",
      "Parch          1309 non-null int64\n",
      "PassengerId    1309 non-null int64\n",
      "Pclass         1309 non-null int64\n",
      "Sex            1309 non-null object\n",
      "SibSp          1309 non-null int64\n",
      "Survived       891 non-null float64\n",
      "Ticket         1309 non-null object\n",
      "label          1309 non-null object\n",
      "Cabin_Known    1309 non-null int64\n",
      "dtypes: float64(3), int64(5), object(6)\n",
      "memory usage: 153.4+ KB\n"
     ]
    }
   ],
   "source": [
    "#Fare - By mean i.e. 33.3\n",
    "fare = df['Fare'].mean()\n",
    "\n",
    "def func_fare (x):\n",
    "    if (pd.isnull(x) == True): return 33.3\n",
    "    else: return x\n",
    "df['Fare'] = df['Fare'].apply(func_fare)\n",
    "df.info()"
   ]
  },
  {
   "cell_type": "markdown",
   "metadata": {},
   "source": [
    "# Exploratory Data Analysis - Categorical"
   ]
  },
  {
   "cell_type": "code",
   "execution_count": 10,
   "metadata": {},
   "outputs": [
    {
     "data": {
      "text/plain": [
       "<matplotlib.legend.Legend at 0x1cff1d02e10>"
      ]
     },
     "execution_count": 10,
     "metadata": {},
     "output_type": "execute_result"
    },
    {
     "data": {
      "image/png": "[encoded data removed]",
      "text/plain": [
       "<matplotlib.figure.Figure at 0x1cff1cb3f28>"
      ]
     },
     "metadata": {},
     "output_type": "display_data"
    }
   ],
   "source": [
    "#Cabin_Known (use Cabin_Known)\n",
    "temp = df[df['label']=='train']\n",
    "x_chart = temp.pivot_table(values=['PassengerId'], index=['Cabin_Known'], columns=['Survived'], aggfunc='count')\n",
    "x_chart = x_chart.apply(lambda c: c / c.sum() * 100, axis=1)\n",
    "x_chart.plot(kind=\"bar\",stacked=True)\n",
    "plt.legend(loc='center left', bbox_to_anchor=(1.0, 0.5))"
   ]
  },
  {
   "cell_type": "code",
   "execution_count": 11,
   "metadata": {},
   "outputs": [
    {
     "data": {
      "text/plain": [
       "<matplotlib.legend.Legend at 0x1cfeef41908>"
      ]
     },
     "execution_count": 11,
     "metadata": {},
     "output_type": "execute_result"
    },
    {
     "data": {
      "image/png": "[encoded data removed]",
      "text/plain": [
       "<matplotlib.figure.Figure at 0x1cff1fe49b0>"
      ]
     },
     "metadata": {},
     "output_type": "display_data"
    }
   ],
   "source": [
    "#Embarked (use Embarked_C)\n",
    "def func_embarked (x):\n",
    "    if (x == 'C'): return 1\n",
    "    else: return 0\n",
    "df['Embarked_C'] = df['Embarked'].apply(func_embarked)\n",
    "\n",
    "temp = df[df['label']=='train']\n",
    "x_chart = temp.pivot_table(values=['PassengerId'], index=['Embarked_C'], columns=['Survived'], aggfunc='count')\n",
    "x_chart = x_chart.apply(lambda c: c / c.sum() * 100, axis=1)\n",
    "x_chart.plot(kind=\"bar\",stacked=True)\n",
    "plt.legend(loc='center left', bbox_to_anchor=(1.0, 0.5))"
   ]
  },
  {
   "cell_type": "code",
   "execution_count": 12,
   "metadata": {},
   "outputs": [
    {
     "data": {
      "text/plain": [
       "<matplotlib.legend.Legend at 0x1cfedaa0668>"
      ]
     },
     "execution_count": 12,
     "metadata": {},
     "output_type": "execute_result"
    },
    {
     "data": {
      "image/png": "[encoded data removed]",
      "text/plain": [
       "<matplotlib.figure.Figure at 0x1cfedaa02b0>"
      ]
     },
     "metadata": {},
     "output_type": "display_data"
    }
   ],
   "source": [
    "#Name (use Name_Prefix)\n",
    "def func_name(x):\n",
    "    y = x.split()[1]\n",
    "    if (y == 'Mrs.'): return \"a. F\"\n",
    "    elif (y == 'Mr.'): return \"d. Married M\"\n",
    "    elif (y == 'Miss.'): return \"a. F\"\n",
    "    elif (y == 'Ms.'): return \"a. F\"\n",
    "    elif (y == 'Master.'): return \"b. Single M\"\n",
    "    else: return \"c. Others\"\n",
    "df['Name_Prefix']=df['Name'].apply(func_name)\n",
    "\n",
    "temp = df[df['label']=='train']\n",
    "x_chart = temp.pivot_table(values=['PassengerId'], index=['Name_Prefix'], columns=['Survived'], aggfunc='count')\n",
    "x_chart = x_chart.apply(lambda c: c / c.sum() * 100, axis=1)\n",
    "x_chart.plot(kind=\"bar\",stacked=True)\n",
    "plt.legend(loc='center left', bbox_to_anchor=(1.0, 0.5))"
   ]
  },
  {
   "cell_type": "code",
   "execution_count": 13,
   "metadata": {},
   "outputs": [
    {
     "data": {
      "text/plain": [
       "<matplotlib.legend.Legend at 0x1cff23e2ef0>"
      ]
     },
     "execution_count": 13,
     "metadata": {},
     "output_type": "execute_result"
    },
    {
     "data": {
      "image/png": "[encoded data removed]",
      "text/plain": [
       "<matplotlib.figure.Figure at 0x1cff23e22e8>"
      ]
     },
     "metadata": {},
     "output_type": "display_data"
    }
   ],
   "source": [
    "#Parch (use Parch_Bin)\n",
    "def func_Parch(x):\n",
    "    if (x == 0): return \"b. 0\"\n",
    "    elif (x >= 1 and x<=3): return \"a. 1-3\"\n",
    "    else: return \"c. 4+\"\n",
    "df['Parch_Bin']=df['Parch'].apply(func_Parch)\n",
    "    \n",
    "temp = df[df['label']=='train']\n",
    "x_chart = temp.pivot_table(values=['PassengerId'], index=['Parch_Bin'], columns=['Survived'], aggfunc='count')\n",
    "x_chart = x_chart.apply(lambda c: c / c.sum() * 100, axis=1)\n",
    "x_chart.plot(kind=\"bar\",stacked=True)\n",
    "plt.legend(loc='center left', bbox_to_anchor=(1.0, 0.5))"
   ]
  },
  {
   "cell_type": "code",
   "execution_count": 14,
   "metadata": {},
   "outputs": [
    {
     "data": {
      "text/plain": [
       "<matplotlib.legend.Legend at 0x1cff24b9f98>"
      ]
     },
     "execution_count": 14,
     "metadata": {},
     "output_type": "execute_result"
    },
    {
     "data": {
      "image/png": "[encoded data removed]",
      "text/plain": [
       "<matplotlib.figure.Figure at 0x1cff2535ba8>"
      ]
     },
     "metadata": {},
     "output_type": "display_data"
    }
   ],
   "source": [
    "#Pclass (use Pclass)\n",
    "temp = df[df['label']=='train']\n",
    "x_chart = temp.pivot_table(values=['PassengerId'], index=['Pclass'], columns=['Survived'], aggfunc='count')\n",
    "x_chart = x_chart.apply(lambda c: c / c.sum() * 100, axis=1)\n",
    "x_chart.plot(kind=\"bar\",stacked=True)\n",
    "plt.legend(loc='center left', bbox_to_anchor=(1.0, 0.5))"
   ]
  },
  {
   "cell_type": "code",
   "execution_count": 15,
   "metadata": {},
   "outputs": [
    {
     "data": {
      "text/plain": [
       "<matplotlib.legend.Legend at 0x1cff202be48>"
      ]
     },
     "execution_count": 15,
     "metadata": {},
     "output_type": "execute_result"
    },
    {
     "data": {
      "image/png": "[encoded data removed]",
      "text/plain": [
       "<matplotlib.figure.Figure at 0x1cff202b5f8>"
      ]
     },
     "metadata": {},
     "output_type": "display_data"
    }
   ],
   "source": [
    "#Sex (use Sex)\n",
    "temp = df[df['label']=='train']\n",
    "x_chart = temp.pivot_table(values=['PassengerId'], index=['Sex'], columns=['Survived'], aggfunc='count')\n",
    "x_chart = x_chart.apply(lambda c: c / c.sum() * 100, axis=1)\n",
    "x_chart.plot(kind=\"bar\",stacked=True)\n",
    "plt.legend(loc='center left', bbox_to_anchor=(1.0, 0.5))"
   ]
  },
  {
   "cell_type": "code",
   "execution_count": 16,
   "metadata": {},
   "outputs": [
    {
     "data": {
      "text/plain": [
       "<matplotlib.legend.Legend at 0x1cff26fa278>"
      ]
     },
     "execution_count": 16,
     "metadata": {},
     "output_type": "execute_result"
    },
    {
     "data": {
      "image/png": "[encoded data removed]",
      "text/plain": [
       "<matplotlib.figure.Figure at 0x1cff24c9e80>"
      ]
     },
     "metadata": {},
     "output_type": "display_data"
    }
   ],
   "source": [
    "#SibSp (use SibSp_Bin)\n",
    "def func_SibSp(x):\n",
    "    if (x == 0): return \"b. 0\"\n",
    "    elif (x >= 1 and x<=2): return \"a. 1-2\"\n",
    "    else: return \"c. 3+\"\n",
    "df['SibSp_Bin']=df['SibSp'].apply(func_SibSp)\n",
    "    \n",
    "temp = df[df['label']=='train']\n",
    "x_chart = temp.pivot_table(values=['PassengerId'], index=['SibSp_Bin'], columns=['Survived'], aggfunc='count')\n",
    "x_chart = x_chart.apply(lambda c: c / c.sum() * 100, axis=1)\n",
    "x_chart.plot(kind=\"bar\",stacked=True)\n",
    "plt.legend(loc='center left', bbox_to_anchor=(1.0, 0.5))"
   ]
  },
  {
   "cell_type": "markdown",
   "metadata": {},
   "source": [
    "# Exploratory Data Analysis - Numerical"
   ]
  },
  {
   "cell_type": "code",
   "execution_count": 17,
   "metadata": {},
   "outputs": [
    {
     "data": {
      "text/plain": [
       "<matplotlib.legend.Legend at 0x1cfedaa0e10>"
      ]
     },
     "execution_count": 17,
     "metadata": {},
     "output_type": "execute_result"
    },
    {
     "data": {
      "image/png": "[encoded data removed]",
      "text/plain": [
       "<matplotlib.figure.Figure at 0x1cff2726128>"
      ]
     },
     "metadata": {},
     "output_type": "display_data"
    }
   ],
   "source": [
    "#Age (use Age_Bin)\n",
    "temp = np.percentile(df['Age'], np.arange(0, 101, 10))\n",
    "\n",
    "def func_age (x):\n",
    "    if x < 15: return \"a. 0-15 & 35-40\"\n",
    "    elif x < 25: return \"b. 15-25 & 30-35 & 40+\"\n",
    "    elif x < 30: return \"c. 25-30\"\n",
    "    elif x < 35: return \"b. 15-25 & 30-35 & 40+\"\n",
    "    elif x < 40: return \"a. 0-15 & 35-40\"\n",
    "    else: return \"b. 15-25 & 30-35 & 40+\"\n",
    "df['Age_Bin'] = df['Age'].apply(func_age)\n",
    "\n",
    "temp = df[df['label']=='train']\n",
    "x_chart = temp.pivot_table(values=['PassengerId'], index=['Age_Bin'], columns=['Survived'], aggfunc='count')\n",
    "x_chart = x_chart.apply(lambda c: c / c.sum() * 100, axis=1)\n",
    "x_chart.plot(kind=\"bar\",stacked=True)\n",
    "plt.legend(loc='center left', bbox_to_anchor=(1.0, 0.5))"
   ]
  },
  {
   "cell_type": "code",
   "execution_count": 18,
   "metadata": {},
   "outputs": [
    {
     "data": {
      "text/plain": [
       "<matplotlib.legend.Legend at 0x1cff28003c8>"
      ]
     },
     "execution_count": 18,
     "metadata": {},
     "output_type": "execute_result"
    },
    {
     "data": {
      "image/png": "[encoded data removed]",
      "text/plain": [
       "<matplotlib.figure.Figure at 0x1cff27aa320>"
      ]
     },
     "metadata": {},
     "output_type": "display_data"
    }
   ],
   "source": [
    "#Fare (use Fare_Bin)\n",
    "temp = np.percentile(df['Fare'], np.arange(0, 101, 10))\n",
    "\n",
    "def func_Fare (x):\n",
    "    if x < 10: return \"a. 0-10\"\n",
    "    elif x < 40: return \"b. 10-40\"\n",
    "    elif x < 80: return \"c. 40-80\"\n",
    "    else: return \"d. 80+\"\n",
    "df['Fare_Bin'] = df['Fare'].apply(func_Fare)\n",
    "\n",
    "temp = df[df['label']=='train']\n",
    "x_chart = temp.pivot_table(values=['PassengerId'], index=['Fare_Bin'], columns=['Survived'], aggfunc='count')\n",
    "x_chart = x_chart.apply(lambda c: c / c.sum() * 100, axis=1)\n",
    "x_chart.plot(kind=\"bar\",stacked=True)\n",
    "plt.legend(loc='center left', bbox_to_anchor=(1.0, 0.5))"
   ]
  },
  {
   "cell_type": "markdown",
   "metadata": {},
   "source": [
    "# Train Test Split"
   ]
  },
  {
   "cell_type": "code",
   "execution_count": 19,
   "metadata": {},
   "outputs": [
    {
     "name": "stdout",
     "output_type": "stream",
     "text": [
      "<class 'pandas.core.frame.DataFrame'>\n",
      "Int64Index: 1309 entries, 0 to 417\n",
      "Data columns (total 12 columns):\n",
      "PassengerId                 1309 non-null int64\n",
      "Cabin_Known                 1309 non-null int64\n",
      "Embarked_C                  1309 non-null int64\n",
      "Survived                    891 non-null float64\n",
      "label                       1309 non-null object\n",
      "Name_Prefix_b. Single M     1309 non-null uint8\n",
      "Name_Prefix_c. Others       1309 non-null uint8\n",
      "Name_Prefix_d. Married M    1309 non-null uint8\n",
      "Pclass_2                    1309 non-null uint8\n",
      "Pclass_3                    1309 non-null uint8\n",
      "SibSp_Bin_b. 0              1309 non-null uint8\n",
      "SibSp_Bin_c. 3+             1309 non-null uint8\n",
      "dtypes: float64(1), int64(3), object(1), uint8(7)\n",
      "memory usage: 70.3+ KB\n"
     ]
    }
   ],
   "source": [
    "#Cleaning dataset and getting the dummies\n",
    "#temp = df[['PassengerId','Age_Bin','Fare_Bin','Cabin_Known','Embarked_C','Name_Prefix','Parch_Bin','Pclass','Sex','SibSp_Bin','Survived','label']]\n",
    "#temp = df[['PassengerId','Age_Bin','Cabin_Known','Embarked_C','Name_Prefix','Parch_Bin','Pclass','Sex','SibSp_Bin','Survived','label']]\n",
    "#temp = df[['PassengerId','Cabin_Known','Embarked_C','Name_Prefix','Parch_Bin','Pclass','Sex','SibSp_Bin','Survived','label']]\n",
    "#temp = df[['PassengerId','Cabin_Known','Embarked_C','Name_Prefix','Parch_Bin','Pclass','SibSp_Bin','Survived','label']]\n",
    "temp = df[['PassengerId','Cabin_Known','Embarked_C','Name_Prefix','Pclass','SibSp_Bin','Survived','label']]\n",
    "\n",
    "#cat_feats = ['Age_Bin','Fare_Bin','Name_Prefix','Parch_Bin','Pclass','Sex','SibSp_Bin']\n",
    "#cat_feats = ['Age_Bin','Name_Prefix','Parch_Bin','Pclass','Sex','SibSp_Bin']\n",
    "#cat_feats = ['Name_Prefix','Parch_Bin','Pclass','Sex','SibSp_Bin']\n",
    "#cat_feats = ['Name_Prefix','Parch_Bin','Pclass','SibSp_Bin']\n",
    "cat_feats = ['Name_Prefix','Pclass','SibSp_Bin']\n",
    "\n",
    "final_data = pd.get_dummies(temp,columns=cat_feats,drop_first=True)\n",
    "final_data.info()"
   ]
  },
  {
   "cell_type": "code",
   "execution_count": 20,
   "metadata": {
    "collapsed": true
   },
   "outputs": [],
   "source": [
    "#Splitting the data into a train and test set \n",
    "df_train = final_data[final_data['label']=='train'].copy()\n",
    "df_test = final_data[final_data['label']=='test'].copy()\n",
    "df_test.drop(['Survived','label'],axis=1,inplace=True)\n",
    "\n",
    "x = df_train.drop(['PassengerId','Survived','label'],axis=1)\n",
    "y = df_train['Survived']\n",
    "x_train, x_test, y_train, y_test = train_test_split(x,y,test_size=0.3, random_state=101)"
   ]
  },
  {
   "cell_type": "markdown",
   "metadata": {},
   "source": [
    "# Building the Model"
   ]
  },
  {
   "cell_type": "code",
   "execution_count": 21,
   "metadata": {},
   "outputs": [
    {
     "name": "stdout",
     "output_type": "stream",
     "text": [
      "Optimization terminated successfully.\n",
      "         Current function value: 0.407051\n",
      "         Iterations 6\n"
     ]
    },
    {
     "data": {
      "text/html": [
       "<table class=\"simpletable\">\n",
       "<caption>Logit Regression Results</caption>\n",
       "<tr>\n",
       "  <th>Dep. Variable:</th>     <td>Survived</td>     <th>  No. Observations:  </th>  <td>   623</td>  \n",
       "</tr>\n",
       "<tr>\n",
       "  <th>Model:</th>               <td>Logit</td>      <th>  Df Residuals:      </th>  <td>   613</td>  \n",
       "</tr>\n",
       "<tr>\n",
       "  <th>Method:</th>               <td>MLE</td>       <th>  Df Model:          </th>  <td>     9</td>  \n",
       "</tr>\n",
       "<tr>\n",
       "  <th>Date:</th>          <td>Sun, 29 Oct 2017</td> <th>  Pseudo R-squ.:     </th>  <td>0.3802</td>  \n",
       "</tr>\n",
       "<tr>\n",
       "  <th>Time:</th>              <td>02:53:38</td>     <th>  Log-Likelihood:    </th> <td> -253.59</td> \n",
       "</tr>\n",
       "<tr>\n",
       "  <th>converged:</th>           <td>True</td>       <th>  LL-Null:           </th> <td> -409.17</td> \n",
       "</tr>\n",
       "<tr>\n",
       "  <th> </th>                      <td> </td>        <th>  LLR p-value:       </th> <td>1.119e-61</td>\n",
       "</tr>\n",
       "</table>\n",
       "<table class=\"simpletable\">\n",
       "<tr>\n",
       "              <td></td>                <th>coef</th>     <th>std err</th>      <th>z</th>      <th>P>|z|</th>  <th>[0.025</th>    <th>0.975]</th>  \n",
       "</tr>\n",
       "<tr>\n",
       "  <th>const</th>                    <td>    1.6642</td> <td>    0.516</td> <td>    3.225</td> <td> 0.001</td> <td>    0.653</td> <td>    2.676</td>\n",
       "</tr>\n",
       "<tr>\n",
       "  <th>Cabin_Known</th>              <td>    0.9615</td> <td>    0.434</td> <td>    2.215</td> <td> 0.027</td> <td>    0.111</td> <td>    1.812</td>\n",
       "</tr>\n",
       "<tr>\n",
       "  <th>Embarked_C</th>               <td>    0.5018</td> <td>    0.290</td> <td>    1.729</td> <td> 0.084</td> <td>   -0.067</td> <td>    1.071</td>\n",
       "</tr>\n",
       "<tr>\n",
       "  <th>Name_Prefix_b. Single M</th>  <td>    0.5778</td> <td>    0.622</td> <td>    0.928</td> <td> 0.353</td> <td>   -0.642</td> <td>    1.798</td>\n",
       "</tr>\n",
       "<tr>\n",
       "  <th>Name_Prefix_c. Others</th>    <td>   -2.6605</td> <td>    0.461</td> <td>   -5.777</td> <td> 0.000</td> <td>   -3.563</td> <td>   -1.758</td>\n",
       "</tr>\n",
       "<tr>\n",
       "  <th>Name_Prefix_d. Married M</th> <td>   -3.1602</td> <td>    0.259</td> <td>  -12.182</td> <td> 0.000</td> <td>   -3.669</td> <td>   -2.652</td>\n",
       "</tr>\n",
       "<tr>\n",
       "  <th>Pclass_2</th>                 <td>   -0.3305</td> <td>    0.483</td> <td>   -0.684</td> <td> 0.494</td> <td>   -1.278</td> <td>    0.617</td>\n",
       "</tr>\n",
       "<tr>\n",
       "  <th>Pclass_3</th>                 <td>   -1.1187</td> <td>    0.460</td> <td>   -2.430</td> <td> 0.015</td> <td>   -2.021</td> <td>   -0.216</td>\n",
       "</tr>\n",
       "<tr>\n",
       "  <th>SibSp_Bin_b. 0</th>           <td>   -0.0641</td> <td>    0.256</td> <td>   -0.250</td> <td> 0.802</td> <td>   -0.566</td> <td>    0.438</td>\n",
       "</tr>\n",
       "<tr>\n",
       "  <th>SibSp_Bin_c. 3+</th>          <td>   -2.4754</td> <td>    0.602</td> <td>   -4.111</td> <td> 0.000</td> <td>   -3.656</td> <td>   -1.295</td>\n",
       "</tr>\n",
       "</table>"
      ],
      "text/plain": [
       "<class 'statsmodels.iolib.summary.Summary'>\n",
       "\"\"\"\n",
       "                           Logit Regression Results                           \n",
       "==============================================================================\n",
       "Dep. Variable:               Survived   No. Observations:                  623\n",
       "Model:                          Logit   Df Residuals:                      613\n",
       "Method:                           MLE   Df Model:                            9\n",
       "Date:                Sun, 29 Oct 2017   Pseudo R-squ.:                  0.3802\n",
       "Time:                        02:53:38   Log-Likelihood:                -253.59\n",
       "converged:                       True   LL-Null:                       -409.17\n",
       "                                        LLR p-value:                 1.119e-61\n",
       "============================================================================================\n",
       "                               coef    std err          z      P>|z|      [0.025      0.975]\n",
       "--------------------------------------------------------------------------------------------\n",
       "const                        1.6642      0.516      3.225      0.001       0.653       2.676\n",
       "Cabin_Known                  0.9615      0.434      2.215      0.027       0.111       1.812\n",
       "Embarked_C                   0.5018      0.290      1.729      0.084      -0.067       1.071\n",
       "Name_Prefix_b. Single M      0.5778      0.622      0.928      0.353      -0.642       1.798\n",
       "Name_Prefix_c. Others       -2.6605      0.461     -5.777      0.000      -3.563      -1.758\n",
       "Name_Prefix_d. Married M    -3.1602      0.259    -12.182      0.000      -3.669      -2.652\n",
       "Pclass_2                    -0.3305      0.483     -0.684      0.494      -1.278       0.617\n",
       "Pclass_3                    -1.1187      0.460     -2.430      0.015      -2.021      -0.216\n",
       "SibSp_Bin_b. 0              -0.0641      0.256     -0.250      0.802      -0.566       0.438\n",
       "SibSp_Bin_c. 3+             -2.4754      0.602     -4.111      0.000      -3.656      -1.295\n",
       "============================================================================================\n",
       "\"\"\""
      ]
     },
     "execution_count": 21,
     "metadata": {},
     "output_type": "execute_result"
    }
   ],
   "source": [
    "#Train and fit a logistic regression model on the training set.\n",
    "x_train = sm.add_constant(x_train).copy()\n",
    "logit = sm.Logit(y_train, x_train)\n",
    "result = logit.fit()\n",
    "result.summary()"
   ]
  },
  {
   "cell_type": "markdown",
   "metadata": {},
   "source": [
    "# Predictions and Evaluation"
   ]
  },
  {
   "cell_type": "code",
   "execution_count": 22,
   "metadata": {},
   "outputs": [
    {
     "name": "stdout",
     "output_type": "stream",
     "text": [
      "[[136  18]\n",
      " [ 35  79]]\n"
     ]
    }
   ],
   "source": [
    "#Creating a confusion matrix\n",
    "x_test = sm.add_constant(x_test).copy()\n",
    "y_pred = result.predict(x_test)\n",
    "test_calc = pd.concat([pd.DataFrame(y_test),pd.DataFrame(y_pred)],axis=1)\n",
    "test_calc.rename(columns={0: 'predicted'}, inplace=True)\n",
    "\n",
    "test_calc['predicted'] = test_calc['predicted'].apply(lambda x: 1 if x > 0.5 else 0)\n",
    "df_table = confusion_matrix(test_calc['Survived'],test_calc['predicted'])\n",
    "print (df_table)"
   ]
  },
  {
   "cell_type": "code",
   "execution_count": 23,
   "metadata": {},
   "outputs": [
    {
     "name": "stdout",
     "output_type": "stream",
     "text": [
      "accuracy: 0.80223880597\n",
      "precision: 0.814432989691\n",
      "recall: 0.69298245614\n",
      "f1 score:  0.748815165877\n"
     ]
    }
   ],
   "source": [
    "#Performance of the model\n",
    "print('accuracy:', (df_table[0,0] + df_table[1,1]) / (df_table[0,0] + df_table[0,1] + df_table[1,0] + df_table[1,1]))\n",
    "print ('precision:', df_table[1,1] / (df_table[1,1] + df_table[0,1]))\n",
    "print('recall:', df_table[1,1] / (df_table[1,1] + df_table[1,0]))\n",
    "\n",
    "p = df_table[1,1] / (df_table[1,1] + df_table[0,1])\n",
    "r = df_table[1,1] / (df_table[1,1] + df_table[1,0])\n",
    "print('f1 score: ', (2*p*r)/(p+r))"
   ]
  },
  {
   "cell_type": "markdown",
   "metadata": {},
   "source": [
    "# Choosing C"
   ]
  },
  {
   "cell_type": "code",
   "execution_count": 26,
   "metadata": {
    "collapsed": true
   },
   "outputs": [],
   "source": [
    "#ADDED: predicted values for the testing data.\n",
    "predicted = result.predict(x_train)\n",
    "x_train = x_train.reset_index(drop=True)\n",
    "y_train = y_train.reset_index(drop=True)\n",
    "train_calc = pd.concat([x_train,y_train,pd.DataFrame(predicted)],axis=1)\n",
    "train_calc.rename(columns={0: 'predicted'}, inplace=True)"
   ]
  },
  {
   "cell_type": "code",
   "execution_count": 27,
   "metadata": {},
   "outputs": [
    {
     "name": "stdout",
     "output_type": "stream",
     "text": [
      "max c:  0.45\n",
      "max a:  0.5\n"
     ]
    },
    {
     "data": {
      "image/png": "[encoded data removed]",
      "text/plain": [
       "<matplotlib.figure.Figure at 0x1cff203c080>"
      ]
     },
     "metadata": {},
     "output_type": "display_data"
    }
   ],
   "source": [
    "#ADDED: optimizing c value.\n",
    "c = [0.85,0.80,0.75,0.70,0.65,0.60,0.55,0.50,0.45,0.40,0.35,0.30,0.25,0.20,0.15]\n",
    "a = [0.85,0.80,0.75,0.70,0.65,0.60,0.55,0.50,0.45,0.40,0.35,0.30,0.25,0.20,0.15]\n",
    "p = [0.85,0.80,0.75,0.70,0.65,0.60,0.55,0.50,0.45,0.40,0.35,0.30,0.25,0.20,0.15]\n",
    "r = [0.85,0.80,0.75,0.70,0.65,0.60,0.55,0.50,0.45,0.40,0.35,0.30,0.25,0.20,0.15]\n",
    "f = [0.85,0.80,0.75,0.70,0.65,0.60,0.55,0.50,0.45,0.40,0.35,0.30,0.25,0.20,0.15]\n",
    "i = 0\n",
    "\n",
    "for j in c:\n",
    "    def flag(cols):\n",
    "        x = cols[0]\n",
    "        j = cols[1]\n",
    "        if x > j: return 1\n",
    "        else: return 0\n",
    "    train_calc['j']=j\n",
    "    train_calc['flag'] = train_calc[['predicted','j']].apply(flag,axis=1)\n",
    "    df_table = confusion_matrix(train_calc['Survived'],train_calc['flag'])\n",
    "    a[i] = (df_table[0,0] + df_table[1,1]) / (df_table[0,0] + df_table[0,1] + df_table[1,0] + df_table[1,1])\n",
    "    p[i] = df_table[1,1] / (df_table[1,1] + df_table[0,1])\n",
    "    r[i] = df_table[1,1] / (df_table[1,1] + df_table[1,0])\n",
    "    f[i] = (2 * p[i] * r[i]) / (p[i] + r[i])\n",
    "    i = i+1\n",
    "\n",
    "df_decision = pd.concat([pd.DataFrame(c),pd.DataFrame(a),pd.DataFrame(p),pd.DataFrame(r),pd.DataFrame(f)],axis=1)\n",
    "df_decision.columns = ['c','a','p','r','f']\n",
    "\n",
    "f_max = df_decision[df_decision['f']==df_decision['f'].max()].head(1)\n",
    "max_c = float(f_max['c'])\n",
    "a_max = df_decision[df_decision['a']==df_decision['a'].max()].head(1)\n",
    "max_a = float(a_max['c'])\n",
    "\n",
    "df_decision.plot(x='c',y=['f','a'],marker=\"o\")\n",
    "\n",
    "print (\"max c: \",max_c)\n",
    "print (\"max a: \",max_a)"
   ]
  },
  {
   "cell_type": "markdown",
   "metadata": {},
   "source": [
    "# C = 0.5\n",
    "##### Metric: Your score is the percentage of passengers you correctly predict. This is known simply as \"accuracy”."
   ]
  },
  {
   "cell_type": "code",
   "execution_count": 28,
   "metadata": {},
   "outputs": [
    {
     "name": "stdout",
     "output_type": "stream",
     "text": [
      "[[136  18]\n",
      " [ 35  79]]\n",
      "accuracy: 0.80223880597\n",
      "precision: 0.814432989691\n",
      "recall: 0.69298245614\n",
      "f1 score:  0.748815165877\n"
     ]
    }
   ],
   "source": [
    "#ADDED: final Model\n",
    "x_test = sm.add_constant(x_test).copy()\n",
    "y_pred = result.predict(x_test)\n",
    "test_calc = pd.concat([pd.DataFrame(y_test),pd.DataFrame(y_pred)],axis=1)\n",
    "test_calc.rename(columns={0: 'predicted'}, inplace=True)\n",
    "\n",
    "test_calc['predicted'] = test_calc['predicted'].apply(lambda x: 1 if x > 0.5 else 0)\n",
    "df_table = confusion_matrix(test_calc['Survived'],test_calc['predicted'])\n",
    "print (df_table)\n",
    "\n",
    "print('accuracy:', (df_table[0,0] + df_table[1,1]) / (df_table[0,0] + df_table[0,1] + df_table[1,0] + df_table[1,1]))\n",
    "print ('precision:', df_table[1,1] / (df_table[1,1] + df_table[0,1]))\n",
    "print('recall:', df_table[1,1] / (df_table[1,1] + df_table[1,0]))\n",
    "\n",
    "p = df_table[1,1] / (df_table[1,1] + df_table[0,1])\n",
    "r = df_table[1,1] / (df_table[1,1] + df_table[1,0])\n",
    "print('f1 score: ', (2*p*r)/(p+r))"
   ]
  },
  {
   "cell_type": "markdown",
   "metadata": {},
   "source": [
    "# Final Submission"
   ]
  },
  {
   "cell_type": "code",
   "execution_count": 29,
   "metadata": {},
   "outputs": [],
   "source": [
    "x_test = sm.add_constant(df_test).drop('PassengerId',axis=1).copy()\n",
    "y_pred = result.predict(x_test)\n",
    "\n",
    "test_calc = pd.concat([df_test,pd.DataFrame(y_pred)],axis=1)\n",
    "test_calc.rename(columns={0: 'predicted'}, inplace=True)\n",
    "test_calc['Survived'] = test_calc['predicted'].apply(lambda x: 1 if x > 0.5 else 0)"
   ]
  },
  {
   "cell_type": "code",
   "execution_count": 30,
   "metadata": {
    "collapsed": true
   },
   "outputs": [],
   "source": [
    "final_sub = test_calc[['PassengerId','Survived']]\n",
    "final_sub.to_csv('titanic_f2005636.csv', index=False)"
   ]
  },
  {
   "cell_type": "code",
   "execution_count": null,
   "metadata": {
    "collapsed": true
   },
   "outputs": [],
   "source": []
  }
 ],
 "metadata": {
  "kernelspec": {
   "display_name": "Python 3",
   "language": "python",
   "name": "python3"
  },
  "language_info": {
   "codemirror_mode": {
    "name": "ipython",
    "version": 3
   },
   "file_extension": ".py",
   "mimetype": "text/x-python",
   "name": "python",
   "nbconvert_exporter": "python",
   "pygments_lexer": "ipython3",
   "version": "3.6.2"
  }
 },
 "nbformat": 4,
 "nbformat_minor": 2
}
